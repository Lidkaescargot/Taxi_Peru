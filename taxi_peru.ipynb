{
 "cells": [
  {
   "cell_type": "markdown",
   "id": "a3d29c05",
   "metadata": {},
   "source": [
    "# Такси Перу"
   ]
  },
  {
   "cell_type": "code",
   "execution_count": null,
   "id": "1fd7479d",
   "metadata": {},
   "outputs": [],
   "source": [
    "# импортируем необходимые для работы библиотеки"
   ]
  },
  {
   "cell_type": "code",
   "execution_count": 1,
   "id": "b9f147f7",
   "metadata": {},
   "outputs": [],
   "source": [
    "import pandas as pd\n",
    "import seaborn as sns\n",
    "sns.set(\n",
    "    font_scale=1.5,\n",
    "    style=\"whitegrid\",\n",
    "    rc={'figure.figsize':(12,5)}\n",
    "        )\n",
    "import matplotlib.pyplot as plt"
   ]
  },
  {
   "cell_type": "code",
   "execution_count": null,
   "id": "6460448f",
   "metadata": {},
   "outputs": [],
   "source": [
    "# открываем файлы и визуально знакомимся с данными"
   ]
  },
  {
   "cell_type": "markdown",
   "id": "1153a3b6",
   "metadata": {},
   "source": [
    "journey_id – уникальный id поездки     \n",
    "user_id – id пользователя     \n",
    "driver_id – id водителя     \n",
    "taxi_id – id машины     \n",
    "icon – тип поездки     \n",
    "start_type – тип заказа (asap, reserved, delayed)     \n",
    "start_at – время начала поездки     \n",
    "start_lat – исходное местоположение пользователя, широта     \n",
    "start_lon – исходное местоположение пользователя, долгота     \n",
    "end_at – время окончания поездки      \n",
    "end_lat – итоговое местоположение, широта     \n",
    "end_lon – итоговое местоположение, долгота     \n",
    "end_state – состояние заказа     \n",
    "driver_start_lat – исходное местоположение водителя, широта    \n",
    "driver_start_lon – исходное местоположение водителя, долгота    \n",
    "arrived_at – время прибытия водителя     \n",
    "source – платформа, с которой сделан заказ     \n",
    "driver_score – оценка водителя клиентом     \n",
    "rider_score – оценка клиента водителем     "
   ]
  },
  {
   "cell_type": "code",
   "execution_count": 2,
   "id": "300f8bc0",
   "metadata": {},
   "outputs": [
    {
     "data": {
      "text/html": [
       "<div>\n",
       "<style scoped>\n",
       "    .dataframe tbody tr th:only-of-type {\n",
       "        vertical-align: middle;\n",
       "    }\n",
       "\n",
       "    .dataframe tbody tr th {\n",
       "        vertical-align: top;\n",
       "    }\n",
       "\n",
       "    .dataframe thead th {\n",
       "        text-align: right;\n",
       "    }\n",
       "</style>\n",
       "<table border=\"1\" class=\"dataframe\">\n",
       "  <thead>\n",
       "    <tr style=\"text-align: right;\">\n",
       "      <th></th>\n",
       "      <th>journey_id</th>\n",
       "      <th>user_id</th>\n",
       "      <th>driver_id</th>\n",
       "      <th>taxi_id</th>\n",
       "      <th>icon</th>\n",
       "      <th>start_type</th>\n",
       "      <th>start_at</th>\n",
       "      <th>start_lat</th>\n",
       "      <th>start_lon</th>\n",
       "      <th>end_at</th>\n",
       "      <th>end_lat</th>\n",
       "      <th>end_lon</th>\n",
       "      <th>end_state</th>\n",
       "      <th>driver_start_lat</th>\n",
       "      <th>driver_start_lon</th>\n",
       "      <th>arrived_at</th>\n",
       "      <th>source</th>\n",
       "      <th>driver_score</th>\n",
       "      <th>rider_score</th>\n",
       "    </tr>\n",
       "  </thead>\n",
       "  <tbody>\n",
       "    <tr>\n",
       "      <th>0</th>\n",
       "      <td>23a1406fc6a11d866e3c82f22eed4d4c</td>\n",
       "      <td>0e9af5bbf1edfe591b54ecdfd7e91e26</td>\n",
       "      <td>583949a89a9ee17d19e3ca4f137b6b4c</td>\n",
       "      <td>b12f4f09c783e29fe0d0ea624530db56</td>\n",
       "      <td>executive</td>\n",
       "      <td>asap</td>\n",
       "      <td>2010-11-16 16:44:00</td>\n",
       "      <td>-12,13983536</td>\n",
       "      <td>-77,02355957</td>\n",
       "      <td>2010-11-16 17:29:00</td>\n",
       "      <td>-12,05537033</td>\n",
       "      <td>-77,0413208</td>\n",
       "      <td>drop off</td>\n",
       "      <td>-12,10825481</td>\n",
       "      <td>-77,0272739</td>\n",
       "      <td>2010-11-16 17:02:00</td>\n",
       "      <td>iPhone</td>\n",
       "      <td>5.0</td>\n",
       "      <td>5.0</td>\n",
       "    </tr>\n",
       "    <tr>\n",
       "      <th>1</th>\n",
       "      <td>dd2af4715d0dc16eded53afc0e243577</td>\n",
       "      <td>a553c46e3a22fb9c326aeb3d72b3334e</td>\n",
       "      <td>NaN</td>\n",
       "      <td>NaN</td>\n",
       "      <td>executive</td>\n",
       "      <td>asap</td>\n",
       "      <td>2010-06-01 00:34:00</td>\n",
       "      <td>-12,13874817</td>\n",
       "      <td>-76,99536133</td>\n",
       "      <td>2010-06-01 00:37:00</td>\n",
       "      <td>-12,12465668</td>\n",
       "      <td>-77,02886963</td>\n",
       "      <td>not found</td>\n",
       "      <td>NaN</td>\n",
       "      <td>NaN</td>\n",
       "      <td>NaN</td>\n",
       "      <td>iPhone</td>\n",
       "      <td>NaN</td>\n",
       "      <td>NaN</td>\n",
       "    </tr>\n",
       "    <tr>\n",
       "      <th>2</th>\n",
       "      <td>dd91e131888064bf7df3ce08f3d4b4ad</td>\n",
       "      <td>a553c46e3a22fb9c326aeb3d72b3334e</td>\n",
       "      <td>NaN</td>\n",
       "      <td>NaN</td>\n",
       "      <td>executive</td>\n",
       "      <td>asap</td>\n",
       "      <td>2010-05-31 05:01:00</td>\n",
       "      <td>-12,12453079</td>\n",
       "      <td>-77,02780151</td>\n",
       "      <td>2010-05-31 05:04:00</td>\n",
       "      <td>-12,13883209</td>\n",
       "      <td>-76,99530029</td>\n",
       "      <td>not found</td>\n",
       "      <td>NaN</td>\n",
       "      <td>NaN</td>\n",
       "      <td>NaN</td>\n",
       "      <td>iPhone</td>\n",
       "      <td>NaN</td>\n",
       "      <td>NaN</td>\n",
       "    </tr>\n",
       "    <tr>\n",
       "      <th>3</th>\n",
       "      <td>dd2af4715d0dc16eded53afc0e2466d0</td>\n",
       "      <td>a553c46e3a22fb9c326aeb3d72b3334e</td>\n",
       "      <td>NaN</td>\n",
       "      <td>NaN</td>\n",
       "      <td>executive</td>\n",
       "      <td>asap</td>\n",
       "      <td>2010-06-01 00:29:00</td>\n",
       "      <td>-12,13885117</td>\n",
       "      <td>-76,99530029</td>\n",
       "      <td>2010-06-01 00:32:00</td>\n",
       "      <td>-12,12458801</td>\n",
       "      <td>-77,02896118</td>\n",
       "      <td>not found</td>\n",
       "      <td>NaN</td>\n",
       "      <td>NaN</td>\n",
       "      <td>NaN</td>\n",
       "      <td>iPhone</td>\n",
       "      <td>NaN</td>\n",
       "      <td>NaN</td>\n",
       "    </tr>\n",
       "    <tr>\n",
       "      <th>4</th>\n",
       "      <td>85b7eabcf5d84e42dc7629b7d27781af</td>\n",
       "      <td>56772d544fdfa589a020a1ff894a86f7</td>\n",
       "      <td>d665fb9f75ef5d9cd0fd89479380ba78</td>\n",
       "      <td>0accdd3aa5a322f4129fa20b53278c69</td>\n",
       "      <td>executive</td>\n",
       "      <td>reserved</td>\n",
       "      <td>2010-09-11 23:55:00</td>\n",
       "      <td>-12,08995438</td>\n",
       "      <td>-76,92626953</td>\n",
       "      <td>2010-09-12 01:07:00</td>\n",
       "      <td>-12,02223206</td>\n",
       "      <td>-77,10638428</td>\n",
       "      <td>drop off</td>\n",
       "      <td>-12,08311558</td>\n",
       "      <td>-76,9277072</td>\n",
       "      <td>2010-09-11 23:50:00</td>\n",
       "      <td>iPhone</td>\n",
       "      <td>4.0</td>\n",
       "      <td>5.0</td>\n",
       "    </tr>\n",
       "  </tbody>\n",
       "</table>\n",
       "</div>"
      ],
      "text/plain": [
       "                         journey_id                           user_id  \\\n",
       "0  23a1406fc6a11d866e3c82f22eed4d4c  0e9af5bbf1edfe591b54ecdfd7e91e26   \n",
       "1  dd2af4715d0dc16eded53afc0e243577  a553c46e3a22fb9c326aeb3d72b3334e   \n",
       "2  dd91e131888064bf7df3ce08f3d4b4ad  a553c46e3a22fb9c326aeb3d72b3334e   \n",
       "3  dd2af4715d0dc16eded53afc0e2466d0  a553c46e3a22fb9c326aeb3d72b3334e   \n",
       "4  85b7eabcf5d84e42dc7629b7d27781af  56772d544fdfa589a020a1ff894a86f7   \n",
       "\n",
       "                          driver_id                           taxi_id  \\\n",
       "0  583949a89a9ee17d19e3ca4f137b6b4c  b12f4f09c783e29fe0d0ea624530db56   \n",
       "1                               NaN                               NaN   \n",
       "2                               NaN                               NaN   \n",
       "3                               NaN                               NaN   \n",
       "4  d665fb9f75ef5d9cd0fd89479380ba78  0accdd3aa5a322f4129fa20b53278c69   \n",
       "\n",
       "        icon start_type             start_at     start_lat     start_lon  \\\n",
       "0  executive       asap  2010-11-16 16:44:00  -12,13983536  -77,02355957   \n",
       "1  executive       asap  2010-06-01 00:34:00  -12,13874817  -76,99536133   \n",
       "2  executive       asap  2010-05-31 05:01:00  -12,12453079  -77,02780151   \n",
       "3  executive       asap  2010-06-01 00:29:00  -12,13885117  -76,99530029   \n",
       "4  executive   reserved  2010-09-11 23:55:00  -12,08995438  -76,92626953   \n",
       "\n",
       "                end_at       end_lat       end_lon  end_state  \\\n",
       "0  2010-11-16 17:29:00  -12,05537033   -77,0413208   drop off   \n",
       "1  2010-06-01 00:37:00  -12,12465668  -77,02886963  not found   \n",
       "2  2010-05-31 05:04:00  -12,13883209  -76,99530029  not found   \n",
       "3  2010-06-01 00:32:00  -12,12458801  -77,02896118  not found   \n",
       "4  2010-09-12 01:07:00  -12,02223206  -77,10638428   drop off   \n",
       "\n",
       "  driver_start_lat driver_start_lon           arrived_at  source  \\\n",
       "0     -12,10825481      -77,0272739  2010-11-16 17:02:00  iPhone   \n",
       "1              NaN              NaN                  NaN  iPhone   \n",
       "2              NaN              NaN                  NaN  iPhone   \n",
       "3              NaN              NaN                  NaN  iPhone   \n",
       "4     -12,08311558      -76,9277072  2010-09-11 23:50:00  iPhone   \n",
       "\n",
       "   driver_score  rider_score  \n",
       "0           5.0          5.0  \n",
       "1           NaN          NaN  \n",
       "2           NaN          NaN  \n",
       "3           NaN          NaN  \n",
       "4           4.0          5.0  "
      ]
     },
     "execution_count": 2,
     "metadata": {},
     "output_type": "execute_result"
    }
   ],
   "source": [
    "taxi = pd.read_csv('./3_taxi_peru.csv', sep = ';')\n",
    "taxi.head()"
   ]
  },
  {
   "cell_type": "code",
   "execution_count": 5,
   "id": "4a5d5252",
   "metadata": {
    "scrolled": true
   },
   "outputs": [
    {
     "data": {
      "text/plain": [
       "(23111, 19)"
      ]
     },
     "execution_count": 5,
     "metadata": {},
     "output_type": "execute_result"
    }
   ],
   "source": [
    "taxi.shape"
   ]
  },
  {
   "cell_type": "code",
   "execution_count": 6,
   "id": "e18dff36",
   "metadata": {},
   "outputs": [
    {
     "data": {
      "text/plain": [
       "journey_id          23111\n",
       "user_id              1390\n",
       "driver_id             168\n",
       "taxi_id               213\n",
       "icon                    3\n",
       "start_type              3\n",
       "start_at            20987\n",
       "start_lat           11753\n",
       "start_lon            8489\n",
       "end_at              21780\n",
       "end_lat             12266\n",
       "end_lon              9084\n",
       "end_state               6\n",
       "driver_start_lat    18425\n",
       "driver_start_lon    18314\n",
       "arrived_at          17156\n",
       "source                  5\n",
       "driver_score            6\n",
       "rider_score             6\n",
       "dtype: int64"
      ]
     },
     "execution_count": 6,
     "metadata": {},
     "output_type": "execute_result"
    }
   ],
   "source": [
    "taxi.nunique()"
   ]
  },
  {
   "cell_type": "code",
   "execution_count": 7,
   "id": "27edba87",
   "metadata": {},
   "outputs": [
    {
     "data": {
      "text/plain": [
       "journey_id           object\n",
       "user_id              object\n",
       "driver_id            object\n",
       "taxi_id              object\n",
       "icon                 object\n",
       "start_type           object\n",
       "start_at             object\n",
       "start_lat            object\n",
       "start_lon            object\n",
       "end_at               object\n",
       "end_lat              object\n",
       "end_lon              object\n",
       "end_state            object\n",
       "driver_start_lat     object\n",
       "driver_start_lon     object\n",
       "arrived_at           object\n",
       "source               object\n",
       "driver_score        float64\n",
       "rider_score         float64\n",
       "dtype: object"
      ]
     },
     "execution_count": 7,
     "metadata": {},
     "output_type": "execute_result"
    }
   ],
   "source": [
    "taxi.dtypes"
   ]
  },
  {
   "cell_type": "code",
   "execution_count": 10,
   "id": "160a06d9",
   "metadata": {},
   "outputs": [],
   "source": [
    "taxi.start_at = pd.to_datetime(taxi.start_at)\n",
    "taxi.end_at = pd.to_datetime(taxi.end_at)\n",
    "taxi.arrived_at = pd.to_datetime(taxi.arrived_at)"
   ]
  },
  {
   "cell_type": "code",
   "execution_count": 11,
   "id": "09b19741",
   "metadata": {},
   "outputs": [
    {
     "data": {
      "text/html": [
       "<div>\n",
       "<style scoped>\n",
       "    .dataframe tbody tr th:only-of-type {\n",
       "        vertical-align: middle;\n",
       "    }\n",
       "\n",
       "    .dataframe tbody tr th {\n",
       "        vertical-align: top;\n",
       "    }\n",
       "\n",
       "    .dataframe thead th {\n",
       "        text-align: right;\n",
       "    }\n",
       "</style>\n",
       "<table border=\"1\" class=\"dataframe\">\n",
       "  <thead>\n",
       "    <tr style=\"text-align: right;\">\n",
       "      <th></th>\n",
       "      <th>driver_score</th>\n",
       "      <th>rider_score</th>\n",
       "    </tr>\n",
       "  </thead>\n",
       "  <tbody>\n",
       "    <tr>\n",
       "      <th>count</th>\n",
       "      <td>7650.000000</td>\n",
       "      <td>15390.000000</td>\n",
       "    </tr>\n",
       "    <tr>\n",
       "      <th>mean</th>\n",
       "      <td>3.933333</td>\n",
       "      <td>4.755491</td>\n",
       "    </tr>\n",
       "    <tr>\n",
       "      <th>std</th>\n",
       "      <td>1.744948</td>\n",
       "      <td>0.840558</td>\n",
       "    </tr>\n",
       "    <tr>\n",
       "      <th>min</th>\n",
       "      <td>0.000000</td>\n",
       "      <td>0.000000</td>\n",
       "    </tr>\n",
       "    <tr>\n",
       "      <th>25%</th>\n",
       "      <td>4.000000</td>\n",
       "      <td>5.000000</td>\n",
       "    </tr>\n",
       "    <tr>\n",
       "      <th>50%</th>\n",
       "      <td>5.000000</td>\n",
       "      <td>5.000000</td>\n",
       "    </tr>\n",
       "    <tr>\n",
       "      <th>75%</th>\n",
       "      <td>5.000000</td>\n",
       "      <td>5.000000</td>\n",
       "    </tr>\n",
       "    <tr>\n",
       "      <th>max</th>\n",
       "      <td>5.000000</td>\n",
       "      <td>5.000000</td>\n",
       "    </tr>\n",
       "  </tbody>\n",
       "</table>\n",
       "</div>"
      ],
      "text/plain": [
       "       driver_score   rider_score\n",
       "count   7650.000000  15390.000000\n",
       "mean       3.933333      4.755491\n",
       "std        1.744948      0.840558\n",
       "min        0.000000      0.000000\n",
       "25%        4.000000      5.000000\n",
       "50%        5.000000      5.000000\n",
       "75%        5.000000      5.000000\n",
       "max        5.000000      5.000000"
      ]
     },
     "execution_count": 11,
     "metadata": {},
     "output_type": "execute_result"
    }
   ],
   "source": [
    "taxi.describe()"
   ]
  },
  {
   "cell_type": "code",
   "execution_count": 13,
   "id": "bf23b0b9",
   "metadata": {},
   "outputs": [
    {
     "name": "stdout",
     "output_type": "stream",
     "text": [
      "<class 'pandas.core.frame.DataFrame'>\n",
      "RangeIndex: 23111 entries, 0 to 23110\n",
      "Data columns (total 19 columns):\n",
      " #   Column            Non-Null Count  Dtype         \n",
      "---  ------            --------------  -----         \n",
      " 0   journey_id        23111 non-null  object        \n",
      " 1   user_id           23111 non-null  object        \n",
      " 2   driver_id         19726 non-null  object        \n",
      " 3   taxi_id           19726 non-null  object        \n",
      " 4   icon              23111 non-null  object        \n",
      " 5   start_type        23111 non-null  object        \n",
      " 6   start_at          23111 non-null  datetime64[ns]\n",
      " 7   start_lat         23111 non-null  object        \n",
      " 8   start_lon         23111 non-null  object        \n",
      " 9   end_at            22835 non-null  datetime64[ns]\n",
      " 10  end_lat           23111 non-null  object        \n",
      " 11  end_lon           23111 non-null  object        \n",
      " 12  end_state         23099 non-null  object        \n",
      " 13  driver_start_lat  19621 non-null  object        \n",
      " 14  driver_start_lon  19621 non-null  object        \n",
      " 15  arrived_at        17716 non-null  datetime64[ns]\n",
      " 16  source            22988 non-null  object        \n",
      " 17  driver_score      7650 non-null   float64       \n",
      " 18  rider_score       15390 non-null  float64       \n",
      "dtypes: datetime64[ns](3), float64(2), object(14)\n",
      "memory usage: 3.4+ MB\n"
     ]
    }
   ],
   "source": [
    "taxi.info()"
   ]
  },
  {
   "cell_type": "code",
   "execution_count": 14,
   "id": "c6215810",
   "metadata": {},
   "outputs": [
    {
     "data": {
      "text/plain": [
       "journey_id              0\n",
       "user_id                 0\n",
       "driver_id            3385\n",
       "taxi_id              3385\n",
       "icon                    0\n",
       "start_type              0\n",
       "start_at                0\n",
       "start_lat               0\n",
       "start_lon               0\n",
       "end_at                276\n",
       "end_lat                 0\n",
       "end_lon                 0\n",
       "end_state              12\n",
       "driver_start_lat     3490\n",
       "driver_start_lon     3490\n",
       "arrived_at           5395\n",
       "source                123\n",
       "driver_score        15461\n",
       "rider_score          7721\n",
       "dtype: int64"
      ]
     },
     "execution_count": 14,
     "metadata": {},
     "output_type": "execute_result"
    }
   ],
   "source": [
    "taxi.isna().sum()"
   ]
  },
  {
   "cell_type": "markdown",
   "id": "5182e715",
   "metadata": {},
   "source": [
    "**Проверьте, с какой платформы было сделано больше всего заказов. В ответе укажите значение в %, округлённое до целого.**"
   ]
  },
  {
   "cell_type": "code",
   "execution_count": 17,
   "id": "0805bbf0",
   "metadata": {},
   "outputs": [
    {
     "data": {
      "text/plain": [
       "iPhone     42.0\n",
       "web        33.0\n",
       "Android    21.0\n",
       "iPad        2.0\n",
       "Wap         1.0\n",
       "Name: source, dtype: float64"
      ]
     },
     "execution_count": 17,
     "metadata": {},
     "output_type": "execute_result"
    }
   ],
   "source": [
    "taxi.source.value_counts(normalize = True).mul(100).round()"
   ]
  },
  {
   "cell_type": "markdown",
   "id": "6f22ebc6",
   "metadata": {},
   "source": [
    "*Больше всего заказов было сделано с платформы iPhone (42 %)*"
   ]
  },
  {
   "cell_type": "markdown",
   "id": "6d4fa8be",
   "metadata": {},
   "source": [
    "**Чтобы показать разницу более наглядно, попробуем визуализировать показатели.\n",
    "Агрегируйте данные и постройте барчарт, где по оси x будет расположено название платформы (source), а по оси y – количество заказов (абсолютные значения).**"
   ]
  },
  {
   "cell_type": "code",
   "execution_count": 18,
   "id": "11ddf8dc",
   "metadata": {},
   "outputs": [
    {
     "data": {
      "text/html": [
       "<div>\n",
       "<style scoped>\n",
       "    .dataframe tbody tr th:only-of-type {\n",
       "        vertical-align: middle;\n",
       "    }\n",
       "\n",
       "    .dataframe tbody tr th {\n",
       "        vertical-align: top;\n",
       "    }\n",
       "\n",
       "    .dataframe thead th {\n",
       "        text-align: right;\n",
       "    }\n",
       "</style>\n",
       "<table border=\"1\" class=\"dataframe\">\n",
       "  <thead>\n",
       "    <tr style=\"text-align: right;\">\n",
       "      <th></th>\n",
       "      <th>source</th>\n",
       "      <th>journey_id</th>\n",
       "    </tr>\n",
       "  </thead>\n",
       "  <tbody>\n",
       "    <tr>\n",
       "      <th>0</th>\n",
       "      <td>Android</td>\n",
       "      <td>4909</td>\n",
       "    </tr>\n",
       "    <tr>\n",
       "      <th>1</th>\n",
       "      <td>Wap</td>\n",
       "      <td>136</td>\n",
       "    </tr>\n",
       "    <tr>\n",
       "      <th>2</th>\n",
       "      <td>iPad</td>\n",
       "      <td>571</td>\n",
       "    </tr>\n",
       "    <tr>\n",
       "      <th>3</th>\n",
       "      <td>iPhone</td>\n",
       "      <td>9741</td>\n",
       "    </tr>\n",
       "    <tr>\n",
       "      <th>4</th>\n",
       "      <td>web</td>\n",
       "      <td>7631</td>\n",
       "    </tr>\n",
       "  </tbody>\n",
       "</table>\n",
       "</div>"
      ],
      "text/plain": [
       "    source  journey_id\n",
       "0  Android        4909\n",
       "1      Wap         136\n",
       "2     iPad         571\n",
       "3   iPhone        9741\n",
       "4      web        7631"
      ]
     },
     "execution_count": 18,
     "metadata": {},
     "output_type": "execute_result"
    }
   ],
   "source": [
    "pop_source = taxi.groupby('source').aggregate({'journey_id' : 'count'}).reset_index()\n",
    "pop_source"
   ]
  },
  {
   "cell_type": "code",
   "execution_count": 21,
   "id": "08d308f5",
   "metadata": {},
   "outputs": [
    {
     "data": {
      "text/plain": [
       "<AxesSubplot:xlabel='source', ylabel='journey_id'>"
      ]
     },
     "execution_count": 21,
     "metadata": {},
     "output_type": "execute_result"
    },
    {
     "data": {
      "image/png": "[encoded data removed]",
      "text/plain": [
       "<Figure size 864x360 with 1 Axes>"
      ]
     },
     "metadata": {},
     "output_type": "display_data"
    }
   ],
   "source": [
    "sns.barplot(x = 'source', y = 'journey_id', data = pop_source)"
   ]
  },
  {
   "cell_type": "markdown",
   "id": "6766ee95",
   "metadata": {},
   "source": [
    "**Альтернативный вариант построения распределения категориальной переменной – sns.countplot. В качестве единственного аргумента можно передать всего одну колонку: например, source, а количество значений для оси y функция посчитает самостоятельно.\n",
    "Используйте данный тип графика и проверьте, какой тип поездки (icon) встречался чаще всего.**"
   ]
  },
  {
   "cell_type": "code",
   "execution_count": 22,
   "id": "0c037fd7",
   "metadata": {},
   "outputs": [
    {
     "name": "stderr",
     "output_type": "stream",
     "text": [
      "C:\\Users\\Лидия\\AppData\\Local\\Programs\\Python\\Python310\\lib\\site-packages\\seaborn\\_decorators.py:36: FutureWarning: Pass the following variable as a keyword arg: x. From version 0.12, the only valid positional argument will be `data`, and passing other arguments without an explicit keyword will result in an error or misinterpretation.\n",
      "  warnings.warn(\n"
     ]
    },
    {
     "data": {
      "text/plain": [
       "<AxesSubplot:xlabel='icon', ylabel='count'>"
      ]
     },
     "execution_count": 22,
     "metadata": {},
     "output_type": "execute_result"
    },
    {
     "data": {
      "image/png": "[encoded data removed]",
      "text/plain": [
       "<Figure size 864x360 with 1 Axes>"
      ]
     },
     "metadata": {},
     "output_type": "display_data"
    }
   ],
   "source": [
    "sns.countplot(taxi['icon'])"
   ]
  },
  {
   "cell_type": "markdown",
   "id": "ce3679e2",
   "metadata": {},
   "source": [
    "*Чаще всего встречался тип поездок \"executive\"*"
   ]
  },
  {
   "cell_type": "markdown",
   "id": "cc98fe73",
   "metadata": {},
   "source": [
    "**Теперь попробуем построить более сложный график!\n",
    "С помощью sns.countplot и параметра hue визуализируйте распределение переменной end_state (итоговое состояние заказа) в разбивке по платформам (source).\n",
    "Иными словами, по оси x расположите платформу, а в качестве цвета используйте состояние заказа.**"
   ]
  },
  {
   "cell_type": "code",
   "execution_count": 29,
   "id": "5a566f72",
   "metadata": {},
   "outputs": [
    {
     "data": {
      "text/plain": [
       "<matplotlib.legend.Legend at 0x208d5da21a0>"
      ]
     },
     "execution_count": 29,
     "metadata": {},
     "output_type": "execute_result"
    },
    {
     "data": {
      "image/png": "[encoded data removed]",
      "text/plain": [
       "<Figure size 864x360 with 1 Axes>"
      ]
     },
     "metadata": {},
     "output_type": "display_data"
    }
   ],
   "source": [
    "sns.countplot(x = taxi.source, hue = taxi.end_state)\n",
    "plt.legend(loc='upper right')"
   ]
  },
  {
   "cell_type": "markdown",
   "id": "43c6538d",
   "metadata": {},
   "source": [
    "*Больше всего заказов со статусом drop off совершено с платформы iPhone    \n",
    "На Android отмененных поездок (rider cancel) меньше, чем на iPhone    \n",
    "Наибольшая разница между количеством drop off и rider cancel наблюдается для платформы iPhone*"
   ]
  },
  {
   "cell_type": "markdown",
   "id": "45070390",
   "metadata": {},
   "source": [
    "**Проверим, как распределены оценки водителей (driver_score). Для подготовки данных выполните следующие шаги:\n",
    "Посчитайте частоту встречаемости каждой из оценок\n",
    "Переведите в проценты и округлите до 2 знаков после точки (.mul(100).round(2))\n",
    "Сбросьте индексы\n",
    "Переименуйте колонки в driver_score и percentage\n",
    "Отсортируйте по driver_score в порядке возрастания (от 0 до 5)\n",
    "Запишите результат в driver_score_counts**"
   ]
  },
  {
   "cell_type": "code",
   "execution_count": 30,
   "id": "7ee73dde",
   "metadata": {},
   "outputs": [
    {
     "data": {
      "text/html": [
       "<div>\n",
       "<style scoped>\n",
       "    .dataframe tbody tr th:only-of-type {\n",
       "        vertical-align: middle;\n",
       "    }\n",
       "\n",
       "    .dataframe tbody tr th {\n",
       "        vertical-align: top;\n",
       "    }\n",
       "\n",
       "    .dataframe thead th {\n",
       "        text-align: right;\n",
       "    }\n",
       "</style>\n",
       "<table border=\"1\" class=\"dataframe\">\n",
       "  <thead>\n",
       "    <tr style=\"text-align: right;\">\n",
       "      <th></th>\n",
       "      <th>driver_score</th>\n",
       "      <th>percentage</th>\n",
       "    </tr>\n",
       "  </thead>\n",
       "  <tbody>\n",
       "    <tr>\n",
       "      <th>2</th>\n",
       "      <td>0.0</td>\n",
       "      <td>14.30</td>\n",
       "    </tr>\n",
       "    <tr>\n",
       "      <th>4</th>\n",
       "      <td>1.0</td>\n",
       "      <td>1.23</td>\n",
       "    </tr>\n",
       "    <tr>\n",
       "      <th>5</th>\n",
       "      <td>2.0</td>\n",
       "      <td>0.81</td>\n",
       "    </tr>\n",
       "    <tr>\n",
       "      <th>3</th>\n",
       "      <td>3.0</td>\n",
       "      <td>2.97</td>\n",
       "    </tr>\n",
       "    <tr>\n",
       "      <th>1</th>\n",
       "      <td>4.0</td>\n",
       "      <td>21.88</td>\n",
       "    </tr>\n",
       "    <tr>\n",
       "      <th>0</th>\n",
       "      <td>5.0</td>\n",
       "      <td>58.81</td>\n",
       "    </tr>\n",
       "  </tbody>\n",
       "</table>\n",
       "</div>"
      ],
      "text/plain": [
       "   driver_score  percentage\n",
       "2           0.0       14.30\n",
       "4           1.0        1.23\n",
       "5           2.0        0.81\n",
       "3           3.0        2.97\n",
       "1           4.0       21.88\n",
       "0           5.0       58.81"
      ]
     },
     "execution_count": 30,
     "metadata": {},
     "output_type": "execute_result"
    }
   ],
   "source": [
    "driver_score_counts = taxi.driver_score \\\n",
    "                        .value_counts(normalize=True) \\\n",
    "                        .mul(100).round(2).reset_index() \\\n",
    "                        .rename(columns={'driver_score' : 'percentage', 'index' : 'driver_score'}) \\\n",
    "                        .sort_values('driver_score')\n",
    "driver_score_counts"
   ]
  },
  {
   "cell_type": "markdown",
   "id": "53af6046",
   "metadata": {},
   "source": [
    "**Теперь строим график! Укажите, какую из четырех строчек в нижепредставленном коде нужно исправить, чтобы получить график:    \n",
    "ax = sns.barplot(x=driver_score, y=percentage, data=driver_score_counts, color='blue', alpha=0.5)    \n",
    "ax.set(xlabel='Driver score', ylabel='Percentage')    \n",
    "sns.despine()  # убрать часть рамки графика   \n",
    "plt.show()**"
   ]
  },
  {
   "cell_type": "code",
   "execution_count": 32,
   "id": "021c06cf",
   "metadata": {},
   "outputs": [
    {
     "data": {
      "image/png": "[encoded data removed]",
      "text/plain": [
       "<Figure size 864x360 with 1 Axes>"
      ]
     },
     "metadata": {},
     "output_type": "display_data"
    }
   ],
   "source": [
    "ax = sns.barplot(x='driver_score', y='percentage', data=driver_score_counts, color='blue', alpha=0.5)\n",
    "ax.set(xlabel='Driver score', ylabel='Percentage')\n",
    "sns.despine()  # убрать часть рамки графика\n",
    "plt.show()"
   ]
  },
  {
   "cell_type": "markdown",
   "id": "9e15bb42",
   "metadata": {},
   "source": [
    "*Чтобы получить график необходимо было исправить первую строчку кода: в параметрах x и y отсутствовали кавычки*"
   ]
  },
  {
   "cell_type": "markdown",
   "id": "a014d650",
   "metadata": {},
   "source": [
    "**Проделайте аналогичные шаги для rider_score (оценок клиентов водителями), не забыв построить график.\n",
    "В чем его отличие от распределения оценок водителей?**"
   ]
  },
  {
   "cell_type": "code",
   "execution_count": 33,
   "id": "d881828d",
   "metadata": {},
   "outputs": [
    {
     "data": {
      "text/html": [
       "<div>\n",
       "<style scoped>\n",
       "    .dataframe tbody tr th:only-of-type {\n",
       "        vertical-align: middle;\n",
       "    }\n",
       "\n",
       "    .dataframe tbody tr th {\n",
       "        vertical-align: top;\n",
       "    }\n",
       "\n",
       "    .dataframe thead th {\n",
       "        text-align: right;\n",
       "    }\n",
       "</style>\n",
       "<table border=\"1\" class=\"dataframe\">\n",
       "  <thead>\n",
       "    <tr style=\"text-align: right;\">\n",
       "      <th></th>\n",
       "      <th>rider_score</th>\n",
       "      <th>percentage</th>\n",
       "    </tr>\n",
       "  </thead>\n",
       "  <tbody>\n",
       "    <tr>\n",
       "      <th>2</th>\n",
       "      <td>0.0</td>\n",
       "      <td>2.29</td>\n",
       "    </tr>\n",
       "    <tr>\n",
       "      <th>4</th>\n",
       "      <td>1.0</td>\n",
       "      <td>0.21</td>\n",
       "    </tr>\n",
       "    <tr>\n",
       "      <th>5</th>\n",
       "      <td>2.0</td>\n",
       "      <td>0.19</td>\n",
       "    </tr>\n",
       "    <tr>\n",
       "      <th>3</th>\n",
       "      <td>3.0</td>\n",
       "      <td>1.38</td>\n",
       "    </tr>\n",
       "    <tr>\n",
       "      <th>1</th>\n",
       "      <td>4.0</td>\n",
       "      <td>8.83</td>\n",
       "    </tr>\n",
       "    <tr>\n",
       "      <th>0</th>\n",
       "      <td>5.0</td>\n",
       "      <td>87.10</td>\n",
       "    </tr>\n",
       "  </tbody>\n",
       "</table>\n",
       "</div>"
      ],
      "text/plain": [
       "   rider_score  percentage\n",
       "2          0.0        2.29\n",
       "4          1.0        0.21\n",
       "5          2.0        0.19\n",
       "3          3.0        1.38\n",
       "1          4.0        8.83\n",
       "0          5.0       87.10"
      ]
     },
     "execution_count": 33,
     "metadata": {},
     "output_type": "execute_result"
    }
   ],
   "source": [
    "rider_score_counts = taxi.rider_score \\\n",
    "    .value_counts(normalize = True) \\\n",
    "    .mul(100).round(2).reset_index() \\\n",
    "    .rename(columns = {'rider_score' : 'percentage' , 'index' : 'rider_score'}) \\\n",
    "    .sort_values('rider_score')\n",
    "rider_score_counts"
   ]
  },
  {
   "cell_type": "code",
   "execution_count": 34,
   "id": "a4f2542e",
   "metadata": {},
   "outputs": [
    {
     "data": {
      "image/png": "[encoded data removed]",
      "text/plain": [
       "<Figure size 864x360 with 1 Axes>"
      ]
     },
     "metadata": {},
     "output_type": "display_data"
    }
   ],
   "source": [
    "ax = sns.barplot(x='rider_score', y='percentage', data=rider_score_counts, color='blue', alpha=0.5)\n",
    "ax.set(xlabel='Driver score', ylabel='Percentage')\n",
    "sns.despine()  # убрать часть рамки графика\n",
    "plt.show()"
   ]
  },
  {
   "cell_type": "markdown",
   "id": "7bfbaa86",
   "metadata": {},
   "source": [
    "*Более чем в 80% случаев водители поставили клиентам 5 звездочек\n",
    "Водители ставят меньше 0, чем клиенты*"
   ]
  },
  {
   "cell_type": "markdown",
   "id": "d1c9a9e1",
   "metadata": {},
   "source": [
    "**Отфильтруйте данные и оставьте наблюдения со статусом заказа \"asap\" и \"reserved\" (start_type).**"
   ]
  },
  {
   "cell_type": "code",
   "execution_count": 35,
   "id": "69991ce3",
   "metadata": {},
   "outputs": [],
   "source": [
    "taxi = taxi.query(\"start_type == 'asap' or start_type == 'reserved'\")"
   ]
  },
  {
   "cell_type": "markdown",
   "id": "e4e13d8e",
   "metadata": {},
   "source": [
    "**Создайте колонку wait_time, в которой будет храниться разница между временем подачи машины (arrived_at) и временем заказа (start_at) в минутах.**"
   ]
  },
  {
   "cell_type": "code",
   "execution_count": 36,
   "id": "da424d8c",
   "metadata": {},
   "outputs": [
    {
     "data": {
      "text/html": [
       "<div>\n",
       "<style scoped>\n",
       "    .dataframe tbody tr th:only-of-type {\n",
       "        vertical-align: middle;\n",
       "    }\n",
       "\n",
       "    .dataframe tbody tr th {\n",
       "        vertical-align: top;\n",
       "    }\n",
       "\n",
       "    .dataframe thead th {\n",
       "        text-align: right;\n",
       "    }\n",
       "</style>\n",
       "<table border=\"1\" class=\"dataframe\">\n",
       "  <thead>\n",
       "    <tr style=\"text-align: right;\">\n",
       "      <th></th>\n",
       "      <th>journey_id</th>\n",
       "      <th>user_id</th>\n",
       "      <th>driver_id</th>\n",
       "      <th>taxi_id</th>\n",
       "      <th>icon</th>\n",
       "      <th>start_type</th>\n",
       "      <th>start_at</th>\n",
       "      <th>start_lat</th>\n",
       "      <th>start_lon</th>\n",
       "      <th>end_at</th>\n",
       "      <th>end_lat</th>\n",
       "      <th>end_lon</th>\n",
       "      <th>end_state</th>\n",
       "      <th>driver_start_lat</th>\n",
       "      <th>driver_start_lon</th>\n",
       "      <th>arrived_at</th>\n",
       "      <th>source</th>\n",
       "      <th>driver_score</th>\n",
       "      <th>rider_score</th>\n",
       "      <th>wait_time</th>\n",
       "    </tr>\n",
       "  </thead>\n",
       "  <tbody>\n",
       "    <tr>\n",
       "      <th>0</th>\n",
       "      <td>23a1406fc6a11d866e3c82f22eed4d4c</td>\n",
       "      <td>0e9af5bbf1edfe591b54ecdfd7e91e26</td>\n",
       "      <td>583949a89a9ee17d19e3ca4f137b6b4c</td>\n",
       "      <td>b12f4f09c783e29fe0d0ea624530db56</td>\n",
       "      <td>executive</td>\n",
       "      <td>asap</td>\n",
       "      <td>2010-11-16 16:44:00</td>\n",
       "      <td>-12,13983536</td>\n",
       "      <td>-77,02355957</td>\n",
       "      <td>2010-11-16 17:29:00</td>\n",
       "      <td>-12,05537033</td>\n",
       "      <td>-77,0413208</td>\n",
       "      <td>drop off</td>\n",
       "      <td>-12,10825481</td>\n",
       "      <td>-77,0272739</td>\n",
       "      <td>2010-11-16 17:02:00</td>\n",
       "      <td>iPhone</td>\n",
       "      <td>5.0</td>\n",
       "      <td>5.0</td>\n",
       "      <td>18.0</td>\n",
       "    </tr>\n",
       "    <tr>\n",
       "      <th>1</th>\n",
       "      <td>dd2af4715d0dc16eded53afc0e243577</td>\n",
       "      <td>a553c46e3a22fb9c326aeb3d72b3334e</td>\n",
       "      <td>NaN</td>\n",
       "      <td>NaN</td>\n",
       "      <td>executive</td>\n",
       "      <td>asap</td>\n",
       "      <td>2010-06-01 00:34:00</td>\n",
       "      <td>-12,13874817</td>\n",
       "      <td>-76,99536133</td>\n",
       "      <td>2010-06-01 00:37:00</td>\n",
       "      <td>-12,12465668</td>\n",
       "      <td>-77,02886963</td>\n",
       "      <td>not found</td>\n",
       "      <td>NaN</td>\n",
       "      <td>NaN</td>\n",
       "      <td>NaT</td>\n",
       "      <td>iPhone</td>\n",
       "      <td>NaN</td>\n",
       "      <td>NaN</td>\n",
       "      <td>NaN</td>\n",
       "    </tr>\n",
       "    <tr>\n",
       "      <th>2</th>\n",
       "      <td>dd91e131888064bf7df3ce08f3d4b4ad</td>\n",
       "      <td>a553c46e3a22fb9c326aeb3d72b3334e</td>\n",
       "      <td>NaN</td>\n",
       "      <td>NaN</td>\n",
       "      <td>executive</td>\n",
       "      <td>asap</td>\n",
       "      <td>2010-05-31 05:01:00</td>\n",
       "      <td>-12,12453079</td>\n",
       "      <td>-77,02780151</td>\n",
       "      <td>2010-05-31 05:04:00</td>\n",
       "      <td>-12,13883209</td>\n",
       "      <td>-76,99530029</td>\n",
       "      <td>not found</td>\n",
       "      <td>NaN</td>\n",
       "      <td>NaN</td>\n",
       "      <td>NaT</td>\n",
       "      <td>iPhone</td>\n",
       "      <td>NaN</td>\n",
       "      <td>NaN</td>\n",
       "      <td>NaN</td>\n",
       "    </tr>\n",
       "    <tr>\n",
       "      <th>3</th>\n",
       "      <td>dd2af4715d0dc16eded53afc0e2466d0</td>\n",
       "      <td>a553c46e3a22fb9c326aeb3d72b3334e</td>\n",
       "      <td>NaN</td>\n",
       "      <td>NaN</td>\n",
       "      <td>executive</td>\n",
       "      <td>asap</td>\n",
       "      <td>2010-06-01 00:29:00</td>\n",
       "      <td>-12,13885117</td>\n",
       "      <td>-76,99530029</td>\n",
       "      <td>2010-06-01 00:32:00</td>\n",
       "      <td>-12,12458801</td>\n",
       "      <td>-77,02896118</td>\n",
       "      <td>not found</td>\n",
       "      <td>NaN</td>\n",
       "      <td>NaN</td>\n",
       "      <td>NaT</td>\n",
       "      <td>iPhone</td>\n",
       "      <td>NaN</td>\n",
       "      <td>NaN</td>\n",
       "      <td>NaN</td>\n",
       "    </tr>\n",
       "    <tr>\n",
       "      <th>4</th>\n",
       "      <td>85b7eabcf5d84e42dc7629b7d27781af</td>\n",
       "      <td>56772d544fdfa589a020a1ff894a86f7</td>\n",
       "      <td>d665fb9f75ef5d9cd0fd89479380ba78</td>\n",
       "      <td>0accdd3aa5a322f4129fa20b53278c69</td>\n",
       "      <td>executive</td>\n",
       "      <td>reserved</td>\n",
       "      <td>2010-09-11 23:55:00</td>\n",
       "      <td>-12,08995438</td>\n",
       "      <td>-76,92626953</td>\n",
       "      <td>2010-09-12 01:07:00</td>\n",
       "      <td>-12,02223206</td>\n",
       "      <td>-77,10638428</td>\n",
       "      <td>drop off</td>\n",
       "      <td>-12,08311558</td>\n",
       "      <td>-76,9277072</td>\n",
       "      <td>2010-09-11 23:50:00</td>\n",
       "      <td>iPhone</td>\n",
       "      <td>4.0</td>\n",
       "      <td>5.0</td>\n",
       "      <td>-5.0</td>\n",
       "    </tr>\n",
       "  </tbody>\n",
       "</table>\n",
       "</div>"
      ],
      "text/plain": [
       "                         journey_id                           user_id  \\\n",
       "0  23a1406fc6a11d866e3c82f22eed4d4c  0e9af5bbf1edfe591b54ecdfd7e91e26   \n",
       "1  dd2af4715d0dc16eded53afc0e243577  a553c46e3a22fb9c326aeb3d72b3334e   \n",
       "2  dd91e131888064bf7df3ce08f3d4b4ad  a553c46e3a22fb9c326aeb3d72b3334e   \n",
       "3  dd2af4715d0dc16eded53afc0e2466d0  a553c46e3a22fb9c326aeb3d72b3334e   \n",
       "4  85b7eabcf5d84e42dc7629b7d27781af  56772d544fdfa589a020a1ff894a86f7   \n",
       "\n",
       "                          driver_id                           taxi_id  \\\n",
       "0  583949a89a9ee17d19e3ca4f137b6b4c  b12f4f09c783e29fe0d0ea624530db56   \n",
       "1                               NaN                               NaN   \n",
       "2                               NaN                               NaN   \n",
       "3                               NaN                               NaN   \n",
       "4  d665fb9f75ef5d9cd0fd89479380ba78  0accdd3aa5a322f4129fa20b53278c69   \n",
       "\n",
       "        icon start_type            start_at     start_lat     start_lon  \\\n",
       "0  executive       asap 2010-11-16 16:44:00  -12,13983536  -77,02355957   \n",
       "1  executive       asap 2010-06-01 00:34:00  -12,13874817  -76,99536133   \n",
       "2  executive       asap 2010-05-31 05:01:00  -12,12453079  -77,02780151   \n",
       "3  executive       asap 2010-06-01 00:29:00  -12,13885117  -76,99530029   \n",
       "4  executive   reserved 2010-09-11 23:55:00  -12,08995438  -76,92626953   \n",
       "\n",
       "               end_at       end_lat       end_lon  end_state driver_start_lat  \\\n",
       "0 2010-11-16 17:29:00  -12,05537033   -77,0413208   drop off     -12,10825481   \n",
       "1 2010-06-01 00:37:00  -12,12465668  -77,02886963  not found              NaN   \n",
       "2 2010-05-31 05:04:00  -12,13883209  -76,99530029  not found              NaN   \n",
       "3 2010-06-01 00:32:00  -12,12458801  -77,02896118  not found              NaN   \n",
       "4 2010-09-12 01:07:00  -12,02223206  -77,10638428   drop off     -12,08311558   \n",
       "\n",
       "  driver_start_lon          arrived_at  source  driver_score  rider_score  \\\n",
       "0      -77,0272739 2010-11-16 17:02:00  iPhone           5.0          5.0   \n",
       "1              NaN                 NaT  iPhone           NaN          NaN   \n",
       "2              NaN                 NaT  iPhone           NaN          NaN   \n",
       "3              NaN                 NaT  iPhone           NaN          NaN   \n",
       "4      -76,9277072 2010-09-11 23:50:00  iPhone           4.0          5.0   \n",
       "\n",
       "   wait_time  \n",
       "0       18.0  \n",
       "1        NaN  \n",
       "2        NaN  \n",
       "3        NaN  \n",
       "4       -5.0  "
      ]
     },
     "execution_count": 36,
     "metadata": {},
     "output_type": "execute_result"
    }
   ],
   "source": [
    "taxi['wait_time'] = taxi['arrived_at'] - taxi['start_at']\n",
    "taxi['wait_time'] = taxi.wait_time.astype('timedelta64[m]')\n",
    "taxi.head()"
   ]
  },
  {
   "cell_type": "markdown",
   "id": "3bd898ec",
   "metadata": {},
   "source": [
    "**Посмотрим, какие водители опаздывали на заказы к определенному времени (start_type == 'reserved'). Опозданием считается время ожидания wait_time > 0.0.\n",
    "Сгруппируйте отфильтрованные данные по driver_id и в качестве ответа укажите id водителя, который опоздал на заказ интересующего нас типа наибольшее число раз**"
   ]
  },
  {
   "cell_type": "code",
   "execution_count": 46,
   "id": "e76cac3e",
   "metadata": {},
   "outputs": [
    {
     "data": {
      "text/plain": [
       "'406921adcca37705ef527b4246c0cfea'"
      ]
     },
     "execution_count": 46,
     "metadata": {},
     "output_type": "execute_result"
    }
   ],
   "source": [
    "taxi.loc[(taxi.start_type == 'reserved') & (taxi.wait_time > 0.0)].driver_id.value_counts().idxmax()"
   ]
  },
  {
   "cell_type": "markdown",
   "id": "cdf6bfef",
   "metadata": {},
   "source": [
    "*id водителя, который опоздал на заказ интересующего нас типа наибольшее число раз == 406921adcca37705ef527b4246c0cfea*"
   ]
  },
  {
   "cell_type": "markdown",
   "id": "abb8e08b",
   "metadata": {},
   "source": [
    "**Подумайте, что может влиять на число опозданий водителя из прошлого задания**"
   ]
  },
  {
   "cell_type": "markdown",
   "id": "271f297a",
   "metadata": {},
   "source": [
    "Гипотеза 1: у него самые долгие поездки, и не получается рассчитывать время (например, стоял в пробке)"
   ]
  },
  {
   "cell_type": "code",
   "execution_count": 68,
   "id": "872e1518",
   "metadata": {},
   "outputs": [
    {
     "data": {
      "text/html": [
       "<div>\n",
       "<style scoped>\n",
       "    .dataframe tbody tr th:only-of-type {\n",
       "        vertical-align: middle;\n",
       "    }\n",
       "\n",
       "    .dataframe tbody tr th {\n",
       "        vertical-align: top;\n",
       "    }\n",
       "\n",
       "    .dataframe thead th {\n",
       "        text-align: right;\n",
       "    }\n",
       "</style>\n",
       "<table border=\"1\" class=\"dataframe\">\n",
       "  <thead>\n",
       "    <tr style=\"text-align: right;\">\n",
       "      <th></th>\n",
       "      <th>duration</th>\n",
       "    </tr>\n",
       "    <tr>\n",
       "      <th>driver_id</th>\n",
       "      <th></th>\n",
       "    </tr>\n",
       "  </thead>\n",
       "  <tbody>\n",
       "    <tr>\n",
       "      <th>660b608a136931aa5ab0d31556ede173</th>\n",
       "      <td>91.0</td>\n",
       "    </tr>\n",
       "    <tr>\n",
       "      <th>ae06c34243f741e203e97c48eb632cb6</th>\n",
       "      <td>62.0</td>\n",
       "    </tr>\n",
       "    <tr>\n",
       "      <th>8d6e3838b34e9c7181ac358dbc30bfe1</th>\n",
       "      <td>62.0</td>\n",
       "    </tr>\n",
       "    <tr>\n",
       "      <th>b4f2c132de1648fecf41bb1651525c91</th>\n",
       "      <td>60.0</td>\n",
       "    </tr>\n",
       "    <tr>\n",
       "      <th>b1a3f957deba8f50052700bfb28a3fa2</th>\n",
       "      <td>58.0</td>\n",
       "    </tr>\n",
       "    <tr>\n",
       "      <th>c76f7b7ecd87b555ba34fa076d6751c0</th>\n",
       "      <td>54.0</td>\n",
       "    </tr>\n",
       "    <tr>\n",
       "      <th>2b9be9ff113177942788e7d6e8554a15</th>\n",
       "      <td>53.0</td>\n",
       "    </tr>\n",
       "    <tr>\n",
       "      <th>bc5c1ae63a528f0371154594b3477211</th>\n",
       "      <td>53.0</td>\n",
       "    </tr>\n",
       "    <tr>\n",
       "      <th>0fd4a08189ac948f6beaa2d3145c81b6</th>\n",
       "      <td>52.0</td>\n",
       "    </tr>\n",
       "    <tr>\n",
       "      <th>8ff94ac5183d99dc41b042ad5cb1e655</th>\n",
       "      <td>52.0</td>\n",
       "    </tr>\n",
       "  </tbody>\n",
       "</table>\n",
       "</div>"
      ],
      "text/plain": [
       "                                  duration\n",
       "driver_id                                 \n",
       "660b608a136931aa5ab0d31556ede173      91.0\n",
       "ae06c34243f741e203e97c48eb632cb6      62.0\n",
       "8d6e3838b34e9c7181ac358dbc30bfe1      62.0\n",
       "b4f2c132de1648fecf41bb1651525c91      60.0\n",
       "b1a3f957deba8f50052700bfb28a3fa2      58.0\n",
       "c76f7b7ecd87b555ba34fa076d6751c0      54.0\n",
       "2b9be9ff113177942788e7d6e8554a15      53.0\n",
       "bc5c1ae63a528f0371154594b3477211      53.0\n",
       "0fd4a08189ac948f6beaa2d3145c81b6      52.0\n",
       "8ff94ac5183d99dc41b042ad5cb1e655      52.0"
      ]
     },
     "execution_count": 68,
     "metadata": {},
     "output_type": "execute_result"
    }
   ],
   "source": [
    "# посчитаем медиану продолжительности поездок по водителям, и посмотрим, войдет ли искомый водитель в топ\n",
    "taxi['duration'] = taxi.end_at - taxi.start_at\n",
    "taxi['duration'] =pd.to_timedelta(taxi.duration).astype('timedelta64[m]')\n",
    "taxi.groupby('driver_id').aggregate({'duration' : 'median'}).sort_values('duration', ascending=False).head(10).round(0)"
   ]
  },
  {
   "cell_type": "markdown",
   "id": "beddb309",
   "metadata": {},
   "source": [
    "Здесь искомого айди нет (406921adcca37705ef527b4246c0cfea). Наш водитель не в топ-10, так что гипотезу отбрасываем."
   ]
  },
  {
   "cell_type": "markdown",
   "id": "fa253ab3",
   "metadata": {},
   "source": [
    "Гипотеза 2: у него в принципе больше всех поездок, поэтому он и опаздывает больше всех"
   ]
  },
  {
   "cell_type": "code",
   "execution_count": 73,
   "id": "51814e6d",
   "metadata": {},
   "outputs": [
    {
     "data": {
      "text/html": [
       "<div>\n",
       "<style scoped>\n",
       "    .dataframe tbody tr th:only-of-type {\n",
       "        vertical-align: middle;\n",
       "    }\n",
       "\n",
       "    .dataframe tbody tr th {\n",
       "        vertical-align: top;\n",
       "    }\n",
       "\n",
       "    .dataframe thead th {\n",
       "        text-align: right;\n",
       "    }\n",
       "</style>\n",
       "<table border=\"1\" class=\"dataframe\">\n",
       "  <thead>\n",
       "    <tr style=\"text-align: right;\">\n",
       "      <th></th>\n",
       "      <th>journey_id</th>\n",
       "    </tr>\n",
       "    <tr>\n",
       "      <th>driver_id</th>\n",
       "      <th></th>\n",
       "    </tr>\n",
       "  </thead>\n",
       "  <tbody>\n",
       "    <tr>\n",
       "      <th>c814db2127582cf95dea1f74f43127c2</th>\n",
       "      <td>1523</td>\n",
       "    </tr>\n",
       "    <tr>\n",
       "      <th>d665fb9f75ef5d9cd0fd89479380ba78</th>\n",
       "      <td>1225</td>\n",
       "    </tr>\n",
       "    <tr>\n",
       "      <th>ff5c924e0b630fd7c019a4234059fdf4</th>\n",
       "      <td>1111</td>\n",
       "    </tr>\n",
       "    <tr>\n",
       "      <th>406921adcca37705ef527b4246c0cfea</th>\n",
       "      <td>1075</td>\n",
       "    </tr>\n",
       "    <tr>\n",
       "      <th>ec84a73745199ff840ecafcb924383ad</th>\n",
       "      <td>974</td>\n",
       "    </tr>\n",
       "  </tbody>\n",
       "</table>\n",
       "</div>"
      ],
      "text/plain": [
       "                                  journey_id\n",
       "driver_id                                   \n",
       "c814db2127582cf95dea1f74f43127c2        1523\n",
       "d665fb9f75ef5d9cd0fd89479380ba78        1225\n",
       "ff5c924e0b630fd7c019a4234059fdf4        1111\n",
       "406921adcca37705ef527b4246c0cfea        1075\n",
       "ec84a73745199ff840ecafcb924383ad         974"
      ]
     },
     "execution_count": 73,
     "metadata": {},
     "output_type": "execute_result"
    }
   ],
   "source": [
    "# найдем топ-5 по числу поездок\n",
    "taxi.groupby(['driver_id']).aggregate({'journey_id' : 'count'}).sort_values('journey_id', ascending=False).head(5)"
   ]
  },
  {
   "cell_type": "markdown",
   "id": "87e7987f",
   "metadata": {},
   "source": [
    "Наш водитель на 4м месте, но не на 1м. Сравним с топом \"опаздывающих\":"
   ]
  },
  {
   "cell_type": "code",
   "execution_count": 76,
   "id": "7930f29e",
   "metadata": {},
   "outputs": [
    {
     "data": {
      "text/html": [
       "<div>\n",
       "<style scoped>\n",
       "    .dataframe tbody tr th:only-of-type {\n",
       "        vertical-align: middle;\n",
       "    }\n",
       "\n",
       "    .dataframe tbody tr th {\n",
       "        vertical-align: top;\n",
       "    }\n",
       "\n",
       "    .dataframe thead th {\n",
       "        text-align: right;\n",
       "    }\n",
       "</style>\n",
       "<table border=\"1\" class=\"dataframe\">\n",
       "  <thead>\n",
       "    <tr style=\"text-align: right;\">\n",
       "      <th></th>\n",
       "      <th>driver_id</th>\n",
       "      <th>taxi_id</th>\n",
       "    </tr>\n",
       "  </thead>\n",
       "  <tbody>\n",
       "    <tr>\n",
       "      <th>24</th>\n",
       "      <td>406921adcca37705ef527b4246c0cfea</td>\n",
       "      <td>67</td>\n",
       "    </tr>\n",
       "    <tr>\n",
       "      <th>86</th>\n",
       "      <td>d665fb9f75ef5d9cd0fd89479380ba78</td>\n",
       "      <td>59</td>\n",
       "    </tr>\n",
       "    <tr>\n",
       "      <th>93</th>\n",
       "      <td>ec84a73745199ff840ecafcb924383ad</td>\n",
       "      <td>57</td>\n",
       "    </tr>\n",
       "    <tr>\n",
       "      <th>29</th>\n",
       "      <td>56f59b58bcbbd1cdabc3652e713134c2</td>\n",
       "      <td>51</td>\n",
       "    </tr>\n",
       "    <tr>\n",
       "      <th>77</th>\n",
       "      <td>c814db2127582cf95dea1f74f43127c2</td>\n",
       "      <td>45</td>\n",
       "    </tr>\n",
       "  </tbody>\n",
       "</table>\n",
       "</div>"
      ],
      "text/plain": [
       "                           driver_id  taxi_id\n",
       "24  406921adcca37705ef527b4246c0cfea       67\n",
       "86  d665fb9f75ef5d9cd0fd89479380ba78       59\n",
       "93  ec84a73745199ff840ecafcb924383ad       57\n",
       "29  56f59b58bcbbd1cdabc3652e713134c2       51\n",
       "77  c814db2127582cf95dea1f74f43127c2       45"
      ]
     },
     "execution_count": 76,
     "metadata": {},
     "output_type": "execute_result"
    }
   ],
   "source": [
    "taxi \\\n",
    "    .query(\"start_type == 'reserved' and wait_time > 0.0\") \\\n",
    "    .groupby('driver_id', as_index = False) \\\n",
    "    .aggregate({'taxi_id' : 'count'}) \\\n",
    "    .sort_values('taxi_id', ascending = False).head(5)"
   ]
  },
  {
   "cell_type": "markdown",
   "id": "623c1fc7",
   "metadata": {},
   "source": [
    "Видим, что трое водителей присутствуют в обоих топах. Логично – кто больше ездит, тот больше и опаздывает."
   ]
  },
  {
   "cell_type": "markdown",
   "id": "c776a03a",
   "metadata": {},
   "source": [
    "*Вывод – наш водитель:\n",
    "– один из самых активных (совершает много поездок)\n",
    "– не очень пунктуальный*"
   ]
  },
  {
   "cell_type": "markdown",
   "id": "6457403c",
   "metadata": {},
   "source": [
    "**Добавьте столбец month, где будет храниться номер месяца, в котором был сделан заказ (start_at),  и столбец weekday – название дня недели.**"
   ]
  },
  {
   "cell_type": "code",
   "execution_count": 77,
   "id": "1bbbeb65",
   "metadata": {},
   "outputs": [],
   "source": [
    "taxi['month'] = taxi.start_at.dt.month\n",
    "taxi['weekday'] = taxi.start_at.dt.day_name()"
   ]
  },
  {
   "cell_type": "markdown",
   "id": "b013fca1",
   "metadata": {},
   "source": [
    "**Постройте график числа заказов по месяцам (month). Подумайте, с чем может быть связана полученная картина. Вопрос: в каком летнем месяце было сделано наименьшее число заказов?**"
   ]
  },
  {
   "cell_type": "code",
   "execution_count": 78,
   "id": "3b597ea4",
   "metadata": {},
   "outputs": [
    {
     "name": "stderr",
     "output_type": "stream",
     "text": [
      "C:\\Users\\Лидия\\AppData\\Local\\Programs\\Python\\Python310\\lib\\site-packages\\seaborn\\_decorators.py:36: FutureWarning: Pass the following variable as a keyword arg: x. From version 0.12, the only valid positional argument will be `data`, and passing other arguments without an explicit keyword will result in an error or misinterpretation.\n",
      "  warnings.warn(\n"
     ]
    },
    {
     "data": {
      "text/plain": [
       "<AxesSubplot:xlabel='month', ylabel='count'>"
      ]
     },
     "execution_count": 78,
     "metadata": {},
     "output_type": "execute_result"
    },
    {
     "data": {
      "image/png": "[encoded data removed]",
      "text/plain": [
       "<Figure size 864x360 with 1 Axes>"
      ]
     },
     "metadata": {},
     "output_type": "display_data"
    }
   ],
   "source": [
    "sns.countplot(taxi['month'])"
   ]
  },
  {
   "cell_type": "markdown",
   "id": "58901f04",
   "metadata": {},
   "source": [
    "*наименьшее число заказов летом было сделано в 7 месяце (июль). Возможно в июле в перу спад туристического сезона*"
   ]
  },
  {
   "cell_type": "markdown",
   "id": "6a45cded",
   "metadata": {},
   "source": [
    "**А теперь – график по дням недели (weekday). Задать порядок столбиков на графике можно с помощью аргумента order, которому нужно передать список названий в нужном порядке. \n",
    "Вопрос: в какой день недели суммарно поступает меньше всего заказов?**"
   ]
  },
  {
   "cell_type": "code",
   "execution_count": 79,
   "id": "6f4cb7a8",
   "metadata": {},
   "outputs": [
    {
     "name": "stderr",
     "output_type": "stream",
     "text": [
      "C:\\Users\\Лидия\\AppData\\Local\\Programs\\Python\\Python310\\lib\\site-packages\\seaborn\\_decorators.py:36: FutureWarning: Pass the following variable as a keyword arg: x. From version 0.12, the only valid positional argument will be `data`, and passing other arguments without an explicit keyword will result in an error or misinterpretation.\n",
      "  warnings.warn(\n"
     ]
    },
    {
     "data": {
      "text/plain": [
       "<AxesSubplot:xlabel='weekday', ylabel='count'>"
      ]
     },
     "execution_count": 79,
     "metadata": {},
     "output_type": "execute_result"
    },
    {
     "data": {
      "image/png": "[encoded data removed]",
      "text/plain": [
       "<Figure size 864x360 with 1 Axes>"
      ]
     },
     "metadata": {},
     "output_type": "display_data"
    }
   ],
   "source": [
    "sns.countplot(taxi['weekday'], order = ['Tuesday', 'Monday', 'Saturday', 'Sunday', 'Friday', 'Wednesday',\n",
    "       'Thursday'])"
   ]
  },
  {
   "cell_type": "markdown",
   "id": "50cad125",
   "metadata": {},
   "source": [
    "*меньше всего заказов суммарно поступает в среду (Wednesday)*"
   ]
  },
  {
   "cell_type": "markdown",
   "id": "58a4e729",
   "metadata": {},
   "source": [
    "**Также мы можем посмотреть на несколько простых метрик, показывающих число уникальных пользователей за определённый период:\n",
    "DAU (daily active users) – число уникальных пользователей за день     \n",
    "WAU (weekly active users) – число уникальных пользователей за неделю     \n",
    "MAU (monthly active users) – число уникальных пользователей за месяц     \n",
    "Активные пользователи – те, кто воспользовался приложением и сделал хотя бы один заказ за выбранный промежуток времени. Постройте график MAU и выберите верные утверждения.**"
   ]
  },
  {
   "cell_type": "code",
   "execution_count": 80,
   "id": "3db0a155",
   "metadata": {},
   "outputs": [
    {
     "name": "stderr",
     "output_type": "stream",
     "text": [
      "C:\\Users\\Лидия\\AppData\\Local\\Programs\\Python\\Python310\\lib\\site-packages\\seaborn\\_decorators.py:36: FutureWarning: Pass the following variables as keyword args: x, y. From version 0.12, the only valid positional argument will be `data`, and passing other arguments without an explicit keyword will result in an error or misinterpretation.\n",
      "  warnings.warn(\n"
     ]
    },
    {
     "data": {
      "text/plain": [
       "<AxesSubplot:xlabel='month', ylabel='user_id'>"
      ]
     },
     "execution_count": 80,
     "metadata": {},
     "output_type": "execute_result"
    },
    {
     "data": {
      "image/png": "[encoded data removed]",
      "text/plain": [
       "<Figure size 864x360 with 1 Axes>"
      ]
     },
     "metadata": {},
     "output_type": "display_data"
    }
   ],
   "source": [
    "taxi_MAU = taxi \\\n",
    "    .groupby('month', as_index = False) \\\n",
    "    .aggregate({'user_id' : 'nunique'})\n",
    "sns.lineplot(taxi_MAU['month'], taxi_MAU['user_id'])"
   ]
  },
  {
   "cell_type": "markdown",
   "id": "3cae7795",
   "metadata": {},
   "source": [
    "*В течение всего года число уникальных пользователей увеличивалось\n",
    "MAU за апрель примерно в 2.5 раза больше, чем за январь*"
   ]
  }
 ],
 "metadata": {
  "kernelspec": {
   "display_name": "Python 3.10.4 64-bit (system)",
   "language": "python",
   "name": "python3"
  },
  "language_info": {
   "codemirror_mode": {
    "name": "ipython",
    "version": 3
   },
   "file_extension": ".py",
   "mimetype": "text/x-python",
   "name": "python",
   "nbconvert_exporter": "python",
   "pygments_lexer": "ipython3",
   "version": "3.10.4"
  },
  "vscode": {
   "interpreter": {
    "hash": "e2ae11dbc765a84a10548509c5cc387f45cdbd4b789399ad886931f8b73217bd"
   }
  }
 },
 "nbformat": 4,
 "nbformat_minor": 5
}
